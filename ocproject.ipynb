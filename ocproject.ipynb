{
  "nbformat": 4,
  "nbformat_minor": 0,
  "metadata": {
    "colab": {
      "name": "ocproject.ipynb",
      "version": "0.3.2",
      "provenance": [],
      "collapsed_sections": [],
      "include_colab_link": true
    },
    "kernelspec": {
      "name": "python3",
      "display_name": "Python 3"
    },
    "accelerator": "GPU"
  },
  "cells": [
    {
      "cell_type": "markdown",
      "metadata": {
        "id": "view-in-github",
        "colab_type": "text"
      },
      "source": [
        "<a href=\"https://colab.research.google.com/github/power80203/AtoZ/blob/master/ocproject.ipynb\" target=\"_parent\"><img src=\"https://colab.research.google.com/assets/colab-badge.svg\" alt=\"Open In Colab\"/></a>"
      ]
    },
    {
      "metadata": {
        "id": "QW4m1VxBeb6w",
        "colab_type": "text"
      },
      "cell_type": "markdown",
      "source": [
        "引入套件 跟 確認GPU 是否正常啟用"
      ]
    },
    {
      "metadata": {
        "id": "Fgs3Gm0koj0n",
        "colab_type": "code",
        "outputId": "91952966-f70f-4499-c450-972a839a7819",
        "colab": {
          "base_uri": "https://localhost:8080/",
          "height": 34
        }
      },
      "cell_type": "code",
      "source": [
        "import os\n",
        "import pandas as pd\n",
        "import numpy as np\n",
        "import matplotlib.pyplot as plt\n",
        "import sys\n",
        "import keras\n",
        "from keras.models import Sequential\n",
        "from keras.layers import Dense, LSTM\n",
        "from sklearn.model_selection import train_test_split\n",
        "from sklearn.metrics import confusion_matrix\n",
        "from sklearn.metrics import accuracy_score\n",
        "import keras.optimizers as optimizers\n",
        "import tensorflow as tf\n",
        "device_name = tf.test.gpu_device_name()\n",
        "if device_name != '/device:GPU:0':\n",
        "  raise SystemError('GPU device not found')\n",
        "print('Found GPU at: {}'.format(device_name))"
      ],
      "execution_count": 10,
      "outputs": [
        {
          "output_type": "stream",
          "text": [
            "Found GPU at: /device:GPU:0\n"
          ],
          "name": "stdout"
        }
      ]
    },
    {
      "metadata": {
        "id": "2YLW9MqeeqT2",
        "colab_type": "text"
      },
      "cell_type": "markdown",
      "source": [
        "Read data from google drive "
      ]
    },
    {
      "metadata": {
        "id": "kbBtU9j-oqE3",
        "colab_type": "code",
        "outputId": "cbd5e46c-961a-43ba-ee11-f87bfa0d7ae1",
        "colab": {
          "base_uri": "https://localhost:8080/",
          "height": 122
        }
      },
      "cell_type": "code",
      "source": [
        "from google.colab import drive\n",
        "\n",
        "# This will prompt for authorization.\n",
        "drive.mount('/content/drive')\n",
        "\n",
        "\n",
        "# from google.colab import files\n",
        "# uploaded = files.upload()\n",
        "\n",
        "# import io\n",
        "# df2 = pd.read_csv(io.BytesIO(uploaded['standed_eight_hour_merge.csv']))\n",
        "# # Dataset is now stored in a Pandas Dataframe\n"
      ],
      "execution_count": 7,
      "outputs": [
        {
          "output_type": "stream",
          "text": [
            "Go to this URL in a browser: https://accounts.google.com/o/oauth2/auth?client_id=947318989803-6bn6qk8qdgf4n4g3pfee6491hc0brc4i.apps.googleusercontent.com&redirect_uri=urn%3Aietf%3Awg%3Aoauth%3A2.0%3Aoob&scope=email%20https%3A%2F%2Fwww.googleapis.com%2Fauth%2Fdocs.test%20https%3A%2F%2Fwww.googleapis.com%2Fauth%2Fdrive%20https%3A%2F%2Fwww.googleapis.com%2Fauth%2Fdrive.photos.readonly%20https%3A%2F%2Fwww.googleapis.com%2Fauth%2Fpeopleapi.readonly&response_type=code\n",
            "\n",
            "Enter your authorization code:\n",
            "··········\n",
            "Mounted at /content/drive\n"
          ],
          "name": "stdout"
        }
      ]
    },
    {
      "metadata": {
        "id": "cEK-ADhDgaix",
        "colab_type": "code",
        "colab": {
          "base_uri": "https://localhost:8080/",
          "height": 34
        },
        "outputId": "6f29b278-72a8-4eb8-bcb3-c9a15738dd39"
      },
      "cell_type": "code",
      "source": [
        "\n",
        "!ls \"/content/drive/My Drive/ocdata\"\n",
        "df2 = pd.read_csv('/content/drive/My Drive/ocdata/standed_eight_hour_merge.csv')"
      ],
      "execution_count": 25,
      "outputs": [
        {
          "output_type": "stream",
          "text": [
            "standed_eight_hour_merge.csv\n"
          ],
          "name": "stdout"
        }
      ]
    },
    {
      "metadata": {
        "id": "2nyUwCV4qfN6",
        "colab_type": "code",
        "colab": {}
      },
      "cell_type": "code",
      "source": [
        "\n",
        "def judge_fail(i):\n",
        "    \"\"\"\n",
        "    check each y and change to target label\n",
        "\n",
        "    \"\"\"\n",
        "    if i < 1 :\n",
        "        return 1\n",
        "    else:\n",
        "        return 0\n",
        "\n",
        "\n",
        "\n",
        "X = df2.iloc[:,1:426].values\n",
        "y = df2.iloc[:,428].values"
      ],
      "execution_count": 0,
      "outputs": []
    },
    {
      "metadata": {
        "id": "EiY7OJQTv66e",
        "colab_type": "code",
        "outputId": "1c41dd80-dc06-4554-c716-eaf183aa7727",
        "colab": {
          "base_uri": "https://localhost:8080/",
          "height": 153
        }
      },
      "cell_type": "code",
      "source": [
        "X_train, X_test, y_train, y_test = train_test_split(X, y, test_size = 0.2, random_state = 0)\n",
        "\n",
        "\n",
        "print(\"X 降維前訓練資料的維度為  \", X_train.shape)\n",
        "print(\"X 降維前測試資料的維度為  \",X_test.shape)\n",
        "print(\"y 訓練資料的維度為  \",y_train.shape)\n",
        "print(\"y 測試資料的維度為  \",y_test.shape)\n",
        "\n",
        "\n",
        "from sklearn.decomposition import PCA\n",
        "pca = PCA(n_components = 80)\n",
        "X_train = pca.fit_transform(X_train)\n",
        "X_test = pca.transform(X_test)\n",
        "explained_variance = pca.explained_variance_ratio_\n",
        "\n",
        "\n",
        "X_train = np.reshape(X_train, (X_train.shape[0], X_train.shape[1], 1))\n",
        "X_test = np.reshape(X_test, (X_test.shape[0], X_test.shape[1], 1))\n",
        "\n",
        "print(\"X 降維後訓練資料的維度為  \", X_train.shape)\n",
        "print(\"X 降維後測試資料的維度為  \",X_test.shape)\n",
        "print(\"y 訓練資料的維度為  \",y_train.shape)\n",
        "print(\"y 測試資料的維度為  \",y_test.shape)\n",
        "\n"
      ],
      "execution_count": 27,
      "outputs": [
        {
          "output_type": "stream",
          "text": [
            "X 降維前訓練資料的維度為   (11674, 425)\n",
            "X 降維前測試資料的維度為   (2919, 425)\n",
            "y 訓練資料的維度為   (11674,)\n",
            "y 測試資料的維度為   (2919,)\n",
            "X 降維後訓練資料的維度為   (11674, 80, 1)\n",
            "X 降維後測試資料的維度為   (2919, 80, 1)\n",
            "y 訓練資料的維度為   (11674,)\n",
            "y 測試資料的維度為   (2919,)\n"
          ],
          "name": "stdout"
        }
      ]
    },
    {
      "metadata": {
        "id": "rOGklPJyv-pD",
        "colab_type": "code",
        "outputId": "76389c5f-20a9-4d8c-bf7f-a62c566de0a1",
        "colab": {
          "base_uri": "https://localhost:8080/",
          "height": 3536
        }
      },
      "cell_type": "code",
      "source": [
        "print(\" \")\n",
        "print(\"開始進行建模\")\n",
        "\n",
        "print(\" \")\n",
        "\n",
        "from keras.layers import Dense, Dropout\n",
        "from keras.layers import Embedding\n",
        "\n",
        "model = Sequential()\n",
        "model.add(LSTM(256, return_sequences= True,activation = 'tanh',\n",
        "               input_shape=(None , 1 )))  # returns a sequence of vectors of dimension 256\n",
        "           \n",
        "model.add(LSTM(256, return_sequences= True, activation = 'tanh'))  # returns a sequence of vectors of dimension 128\n",
        "\n",
        "\n",
        "model.add(LSTM(256,activation = 'tanh'))  # return a single vector of dimension 32\n",
        "model.add(Dense(1, activation='sigmoid'))\n",
        "\n",
        "sgd = optimizers.SGD(lr=0.01, decay=1e-6, momentum=0.9, nesterov=True)\n",
        "adam = optimizers.Adam(lr=0.001, beta_1=0.9, beta_2=0.999, epsilon=None, decay=0.0, amsgrad=False,clipnorm=1.)\n",
        "\n",
        "print(\"建模完成, 開始進行訓練\")\n",
        "model.compile(loss='binary_crossentropy',\n",
        "              optimizer= adam,\n",
        "              metrics=['accuracy'])\n",
        "\n",
        "\n",
        "#########################################################\n",
        "# set LSTM model\n",
        "\n",
        "print( )\n",
        "print(\"訓練完成 開始進行預測\")\n",
        "\n",
        "model.fit(X_train, y_train, batch_size=128, epochs=100)\n",
        "\n",
        "y_pred = model.predict(X_test)\n",
        "\n",
        "\n",
        "y_pred = (y_pred > 0.5)\n",
        "\n",
        "#print(confusion_matrix(y_pred,y_test))\n",
        "\n",
        "print(\"模型準確率 為 \",accuracy_score(y_test,y_pred))\n"
      ],
      "execution_count": 35,
      "outputs": [
        {
          "output_type": "stream",
          "text": [
            " \n",
            "開始進行建模\n",
            " \n",
            "建模完成, 開始進行訓練\n",
            "\n",
            "訓練完成 開始進行預測\n",
            "Epoch 1/100\n",
            "11674/11674 [==============================] - 86s 7ms/step - loss: 0.5696 - acc: 0.7447\n",
            "Epoch 2/100\n",
            "11674/11674 [==============================] - 79s 7ms/step - loss: 0.5613 - acc: 0.7500\n",
            "Epoch 3/100\n",
            "11674/11674 [==============================] - 78s 7ms/step - loss: 0.5566 - acc: 0.7487\n",
            "Epoch 4/100\n",
            "11674/11674 [==============================] - 79s 7ms/step - loss: 0.5540 - acc: 0.7500\n",
            "Epoch 5/100\n",
            "11674/11674 [==============================] - 78s 7ms/step - loss: 0.5469 - acc: 0.7488\n",
            "Epoch 6/100\n",
            "11674/11674 [==============================] - 78s 7ms/step - loss: 0.5348 - acc: 0.7492\n",
            "Epoch 7/100\n",
            "11674/11674 [==============================] - 76s 7ms/step - loss: 0.5024 - acc: 0.7497\n",
            "Epoch 8/100\n",
            "11674/11674 [==============================] - 76s 6ms/step - loss: 0.4886 - acc: 0.7640\n",
            "Epoch 9/100\n",
            "11674/11674 [==============================] - 76s 6ms/step - loss: 0.4649 - acc: 0.7715\n",
            "Epoch 10/100\n",
            "11674/11674 [==============================] - 77s 7ms/step - loss: 0.4164 - acc: 0.7960\n",
            "Epoch 11/100\n",
            "11674/11674 [==============================] - 75s 6ms/step - loss: 0.3674 - acc: 0.8296\n",
            "Epoch 12/100\n",
            "11674/11674 [==============================] - 75s 6ms/step - loss: 0.3283 - acc: 0.8522\n",
            "Epoch 13/100\n",
            "11674/11674 [==============================] - 75s 6ms/step - loss: 0.2768 - acc: 0.8834\n",
            "Epoch 14/100\n",
            "11674/11674 [==============================] - 76s 7ms/step - loss: 0.2515 - acc: 0.8970\n",
            "Epoch 15/100\n",
            "11674/11674 [==============================] - 78s 7ms/step - loss: 0.2386 - acc: 0.9029\n",
            "Epoch 16/100\n",
            "11674/11674 [==============================] - 75s 6ms/step - loss: 0.2155 - acc: 0.9148\n",
            "Epoch 17/100\n",
            "11674/11674 [==============================] - 76s 6ms/step - loss: 0.1865 - acc: 0.9278\n",
            "Epoch 18/100\n",
            "11674/11674 [==============================] - 77s 7ms/step - loss: 0.1746 - acc: 0.9331\n",
            "Epoch 19/100\n",
            "11674/11674 [==============================] - 75s 6ms/step - loss: 0.1583 - acc: 0.9407\n",
            "Epoch 20/100\n",
            "11674/11674 [==============================] - 75s 6ms/step - loss: 0.1551 - acc: 0.9424\n",
            "Epoch 21/100\n",
            "11674/11674 [==============================] - 75s 6ms/step - loss: 0.1409 - acc: 0.9452\n",
            "Epoch 22/100\n",
            "11674/11674 [==============================] - 74s 6ms/step - loss: 0.1133 - acc: 0.9589\n",
            "Epoch 23/100\n",
            "11674/11674 [==============================] - 75s 6ms/step - loss: 0.1251 - acc: 0.9501\n",
            "Epoch 24/100\n",
            "11674/11674 [==============================] - 75s 6ms/step - loss: 0.1040 - acc: 0.9629\n",
            "Epoch 25/100\n",
            "11674/11674 [==============================] - 78s 7ms/step - loss: 0.1042 - acc: 0.9611\n",
            "Epoch 26/100\n",
            "11674/11674 [==============================] - 78s 7ms/step - loss: 0.1058 - acc: 0.9630\n",
            "Epoch 27/100\n",
            "11674/11674 [==============================] - 76s 7ms/step - loss: 0.0920 - acc: 0.9650\n",
            "Epoch 28/100\n",
            "11674/11674 [==============================] - 75s 6ms/step - loss: 0.0955 - acc: 0.9637\n",
            "Epoch 29/100\n",
            "11674/11674 [==============================] - 77s 7ms/step - loss: 0.0857 - acc: 0.9671\n",
            "Epoch 30/100\n",
            "11674/11674 [==============================] - 78s 7ms/step - loss: 0.0824 - acc: 0.9703\n",
            "Epoch 31/100\n",
            "11674/11674 [==============================] - 78s 7ms/step - loss: 0.0730 - acc: 0.9746\n",
            "Epoch 32/100\n",
            "11674/11674 [==============================] - 78s 7ms/step - loss: 0.0773 - acc: 0.9728\n",
            "Epoch 33/100\n",
            "11674/11674 [==============================] - 79s 7ms/step - loss: 0.0678 - acc: 0.9756\n",
            "Epoch 34/100\n",
            "11674/11674 [==============================] - 79s 7ms/step - loss: 0.0634 - acc: 0.9766\n",
            "Epoch 35/100\n",
            "11674/11674 [==============================] - 78s 7ms/step - loss: 0.0657 - acc: 0.9774\n",
            "Epoch 36/100\n",
            "11674/11674 [==============================] - 77s 7ms/step - loss: 0.0667 - acc: 0.9763\n",
            "Epoch 37/100\n",
            "11674/11674 [==============================] - 76s 7ms/step - loss: 0.0520 - acc: 0.9814\n",
            "Epoch 38/100\n",
            "11674/11674 [==============================] - 77s 7ms/step - loss: 0.0518 - acc: 0.9818\n",
            "Epoch 39/100\n",
            "11674/11674 [==============================] - 75s 6ms/step - loss: 0.0543 - acc: 0.9799\n",
            "Epoch 40/100\n",
            "11674/11674 [==============================] - 75s 6ms/step - loss: 0.0593 - acc: 0.9781\n",
            "Epoch 41/100\n",
            "11674/11674 [==============================] - 78s 7ms/step - loss: 0.0572 - acc: 0.9797\n",
            "Epoch 42/100\n",
            "11674/11674 [==============================] - 77s 7ms/step - loss: 0.0444 - acc: 0.9840\n",
            "Epoch 43/100\n",
            "11674/11674 [==============================] - 75s 6ms/step - loss: 0.0567 - acc: 0.9794\n",
            "Epoch 44/100\n",
            "11674/11674 [==============================] - 73s 6ms/step - loss: 0.0547 - acc: 0.9806\n",
            "Epoch 45/100\n",
            "11674/11674 [==============================] - 73s 6ms/step - loss: 0.0555 - acc: 0.9797\n",
            "Epoch 46/100\n",
            "11674/11674 [==============================] - 74s 6ms/step - loss: 0.0381 - acc: 0.9869\n",
            "Epoch 47/100\n",
            "11674/11674 [==============================] - 79s 7ms/step - loss: 0.0381 - acc: 0.9867\n",
            "Epoch 48/100\n",
            "11674/11674 [==============================] - 78s 7ms/step - loss: 0.0389 - acc: 0.9859\n",
            "Epoch 49/100\n",
            "11674/11674 [==============================] - 78s 7ms/step - loss: 0.0367 - acc: 0.9874\n",
            "Epoch 50/100\n",
            "11674/11674 [==============================] - 79s 7ms/step - loss: 0.0404 - acc: 0.9865\n",
            "Epoch 51/100\n",
            "11674/11674 [==============================] - 79s 7ms/step - loss: 0.0348 - acc: 0.9874\n",
            "Epoch 52/100\n",
            "11674/11674 [==============================] - 79s 7ms/step - loss: 0.0451 - acc: 0.9846\n",
            "Epoch 53/100\n",
            "11674/11674 [==============================] - 78s 7ms/step - loss: 0.0304 - acc: 0.9898\n",
            "Epoch 54/100\n",
            "11674/11674 [==============================] - 80s 7ms/step - loss: 0.0377 - acc: 0.9866\n",
            "Epoch 55/100\n",
            "11674/11674 [==============================] - 78s 7ms/step - loss: 0.0258 - acc: 0.9917\n",
            "Epoch 56/100\n",
            "11674/11674 [==============================] - 79s 7ms/step - loss: 0.0293 - acc: 0.9899\n",
            "Epoch 57/100\n",
            "11674/11674 [==============================] - 79s 7ms/step - loss: 0.0445 - acc: 0.9863\n",
            "Epoch 58/100\n",
            "11674/11674 [==============================] - 78s 7ms/step - loss: 0.0349 - acc: 0.9887\n",
            "Epoch 59/100\n",
            "11674/11674 [==============================] - 79s 7ms/step - loss: 0.0331 - acc: 0.9890\n",
            "Epoch 60/100\n",
            "11674/11674 [==============================] - 78s 7ms/step - loss: 0.0333 - acc: 0.9881\n",
            "Epoch 61/100\n",
            "11674/11674 [==============================] - 78s 7ms/step - loss: 0.0279 - acc: 0.9915\n",
            "Epoch 62/100\n",
            "11674/11674 [==============================] - 79s 7ms/step - loss: 0.0366 - acc: 0.9875\n",
            "Epoch 63/100\n",
            "11674/11674 [==============================] - 78s 7ms/step - loss: 0.0331 - acc: 0.9895\n",
            "Epoch 64/100\n",
            "11674/11674 [==============================] - 79s 7ms/step - loss: 0.0217 - acc: 0.9925\n",
            "Epoch 65/100\n",
            "11674/11674 [==============================] - 79s 7ms/step - loss: 0.0249 - acc: 0.9912\n",
            "Epoch 66/100\n",
            "11674/11674 [==============================] - 79s 7ms/step - loss: 0.0235 - acc: 0.9919\n",
            "Epoch 67/100\n",
            "11674/11674 [==============================] - 78s 7ms/step - loss: 0.0288 - acc: 0.9912\n",
            "Epoch 68/100\n",
            "11674/11674 [==============================] - 79s 7ms/step - loss: 0.0295 - acc: 0.9906\n",
            "Epoch 69/100\n",
            "11674/11674 [==============================] - 78s 7ms/step - loss: 0.0286 - acc: 0.9904\n",
            "Epoch 70/100\n",
            "11674/11674 [==============================] - 79s 7ms/step - loss: 0.0278 - acc: 0.9905\n",
            "Epoch 71/100\n",
            "11674/11674 [==============================] - 79s 7ms/step - loss: 0.0271 - acc: 0.9920\n",
            "Epoch 72/100\n",
            "11674/11674 [==============================] - 78s 7ms/step - loss: 0.0131 - acc: 0.9958\n",
            "Epoch 73/100\n",
            "11674/11674 [==============================] - 78s 7ms/step - loss: 0.0302 - acc: 0.9919\n",
            "Epoch 74/100\n",
            "11674/11674 [==============================] - 78s 7ms/step - loss: 0.0196 - acc: 0.9939\n",
            "Epoch 75/100\n",
            "11674/11674 [==============================] - 78s 7ms/step - loss: 0.0204 - acc: 0.9938\n",
            "Epoch 76/100\n",
            "11674/11674 [==============================] - 78s 7ms/step - loss: 0.0218 - acc: 0.9935\n",
            "Epoch 77/100\n",
            "11674/11674 [==============================] - 79s 7ms/step - loss: 0.0167 - acc: 0.9946\n",
            "Epoch 78/100\n",
            "11674/11674 [==============================] - 79s 7ms/step - loss: 0.0186 - acc: 0.9939\n",
            "Epoch 79/100\n",
            "11674/11674 [==============================] - 79s 7ms/step - loss: 0.0210 - acc: 0.9925\n",
            "Epoch 80/100\n",
            "11674/11674 [==============================] - 79s 7ms/step - loss: 0.0157 - acc: 0.9946\n",
            "Epoch 81/100\n",
            "11674/11674 [==============================] - 78s 7ms/step - loss: 0.0300 - acc: 0.9914\n",
            "Epoch 82/100\n",
            "11674/11674 [==============================] - 79s 7ms/step - loss: 0.0241 - acc: 0.9934\n",
            "Epoch 83/100\n",
            "11674/11674 [==============================] - 78s 7ms/step - loss: 0.0206 - acc: 0.9941\n",
            "Epoch 84/100\n",
            "11674/11674 [==============================] - 79s 7ms/step - loss: 0.0178 - acc: 0.9953\n",
            "Epoch 85/100\n",
            "11674/11674 [==============================] - 78s 7ms/step - loss: 0.0179 - acc: 0.9946\n",
            "Epoch 86/100\n",
            "11674/11674 [==============================] - 79s 7ms/step - loss: 0.0196 - acc: 0.9940\n",
            "Epoch 87/100\n",
            "11674/11674 [==============================] - 79s 7ms/step - loss: 0.0225 - acc: 0.9940\n",
            "Epoch 88/100\n",
            "11674/11674 [==============================] - 79s 7ms/step - loss: 0.0155 - acc: 0.9955\n",
            "Epoch 89/100\n",
            "11674/11674 [==============================] - 80s 7ms/step - loss: 0.0216 - acc: 0.9928\n",
            "Epoch 90/100\n",
            "11674/11674 [==============================] - 78s 7ms/step - loss: 0.0126 - acc: 0.9962\n",
            "Epoch 91/100\n",
            "11674/11674 [==============================] - 79s 7ms/step - loss: 0.0171 - acc: 0.9948\n",
            "Epoch 92/100\n",
            "11674/11674 [==============================] - 79s 7ms/step - loss: 0.0093 - acc: 0.9973\n",
            "Epoch 93/100\n",
            "11674/11674 [==============================] - 78s 7ms/step - loss: 0.0126 - acc: 0.9958\n",
            "Epoch 94/100\n",
            "11674/11674 [==============================] - 79s 7ms/step - loss: 0.0186 - acc: 0.9935\n",
            "Epoch 95/100\n",
            "11674/11674 [==============================] - 80s 7ms/step - loss: 0.0211 - acc: 0.9941\n",
            "Epoch 96/100\n",
            "11674/11674 [==============================] - 79s 7ms/step - loss: 0.0136 - acc: 0.9960\n",
            "Epoch 97/100\n",
            "11674/11674 [==============================] - 78s 7ms/step - loss: 0.0140 - acc: 0.9966\n",
            "Epoch 98/100\n",
            "11674/11674 [==============================] - 79s 7ms/step - loss: 0.0088 - acc: 0.9974\n",
            "Epoch 99/100\n",
            "11674/11674 [==============================] - 79s 7ms/step - loss: 0.0080 - acc: 0.9975\n",
            "Epoch 100/100\n",
            "11674/11674 [==============================] - 78s 7ms/step - loss: 0.0186 - acc: 0.9944\n",
            "模型準確率 為  0.9712230215827338\n"
          ],
          "name": "stdout"
        }
      ]
    },
    {
      "metadata": {
        "id": "k8J9gnARGKOW",
        "colab_type": "code",
        "outputId": "473b5058-ad3d-4bbe-c2c6-3733ed88ff4c",
        "colab": {
          "base_uri": "https://localhost:8080/",
          "height": 34
        }
      },
      "cell_type": "code",
      "source": [
        ""
      ],
      "execution_count": 0,
      "outputs": [
        {
          "output_type": "stream",
          "text": [
            "模型準確率 為 0.7334703665638918\n"
          ],
          "name": "stdout"
        }
      ]
    }
  ]
}